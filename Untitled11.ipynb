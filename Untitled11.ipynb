{
  "nbformat": 4,
  "nbformat_minor": 0,
  "metadata": {
    "colab": {
      "provenance": [],
      "authorship_tag": "ABX9TyOlIuLVvuo6C4t90eWmdtIC",
      "include_colab_link": true
    },
    "kernelspec": {
      "name": "python3",
      "display_name": "Python 3"
    },
    "language_info": {
      "name": "python"
    }
  },
  "cells": [
    {
      "cell_type": "markdown",
      "metadata": {
        "id": "view-in-github",
        "colab_type": "text"
      },
      "source": [
        "<a href=\"https://colab.research.google.com/github/dygily1/Storage/blob/master/Untitled11.ipynb\" target=\"_parent\"><img src=\"https://colab.research.google.com/assets/colab-badge.svg\" alt=\"Open In Colab\"/></a>"
      ]
    },
    {
      "cell_type": "code",
      "source": [
        "pip install pykrx;\n"
      ],
      "metadata": {
        "colab": {
          "base_uri": "https://localhost:8080/"
        },
        "id": "s6W5sQyARROH",
        "outputId": "be2dc367-43ed-4fcb-fb2e-d5a543e8d665"
      },
      "execution_count": 10,
      "outputs": [
        {
          "output_type": "stream",
          "name": "stdout",
          "text": [
            "Looking in indexes: https://pypi.org/simple, https://us-python.pkg.dev/colab-wheels/public/simple/\n",
            "Collecting pykrx\n",
            "  Downloading pykrx-1.0.42-py3-none-any.whl (127 kB)\n",
            "\u001b[2K     \u001b[90m━━━━━━━━━━━━━━━━━━━━━━━━━━━━━━━━━━━━━━━\u001b[0m \u001b[32m127.5/127.5 kB\u001b[0m \u001b[31m7.7 MB/s\u001b[0m eta \u001b[36m0:00:00\u001b[0m\n",
            "\u001b[?25hRequirement already satisfied: requests in /usr/local/lib/python3.10/dist-packages (from pykrx) (2.27.1)\n",
            "Requirement already satisfied: pandas in /usr/local/lib/python3.10/dist-packages (from pykrx) (1.5.3)\n",
            "Collecting datetime (from pykrx)\n",
            "  Downloading DateTime-5.1-py3-none-any.whl (52 kB)\n",
            "\u001b[2K     \u001b[90m━━━━━━━━━━━━━━━━━━━━━━━━━━━━━━━━━━━━━━━━\u001b[0m \u001b[32m52.1/52.1 kB\u001b[0m \u001b[31m5.2 MB/s\u001b[0m eta \u001b[36m0:00:00\u001b[0m\n",
            "\u001b[?25hRequirement already satisfied: numpy in /usr/local/lib/python3.10/dist-packages (from pykrx) (1.22.4)\n",
            "Requirement already satisfied: xlrd in /usr/local/lib/python3.10/dist-packages (from pykrx) (2.0.1)\n",
            "Collecting deprecated (from pykrx)\n",
            "  Downloading Deprecated-1.2.13-py2.py3-none-any.whl (9.6 kB)\n",
            "Requirement already satisfied: multipledispatch in /usr/local/lib/python3.10/dist-packages (from pykrx) (0.6.0)\n",
            "Requirement already satisfied: matplotlib in /usr/local/lib/python3.10/dist-packages (from pykrx) (3.7.1)\n",
            "Collecting zope.interface (from datetime->pykrx)\n",
            "  Downloading zope.interface-6.0-cp310-cp310-manylinux_2_5_x86_64.manylinux1_x86_64.manylinux_2_17_x86_64.manylinux2014_x86_64.whl (246 kB)\n",
            "\u001b[2K     \u001b[90m━━━━━━━━━━━━━━━━━━━━━━━━━━━━━━━━━━━━━━\u001b[0m \u001b[32m247.0/247.0 kB\u001b[0m \u001b[31m23.4 MB/s\u001b[0m eta \u001b[36m0:00:00\u001b[0m\n",
            "\u001b[?25hRequirement already satisfied: pytz in /usr/local/lib/python3.10/dist-packages (from datetime->pykrx) (2022.7.1)\n",
            "Requirement already satisfied: wrapt<2,>=1.10 in /usr/local/lib/python3.10/dist-packages (from deprecated->pykrx) (1.14.1)\n",
            "Requirement already satisfied: contourpy>=1.0.1 in /usr/local/lib/python3.10/dist-packages (from matplotlib->pykrx) (1.0.7)\n",
            "Requirement already satisfied: cycler>=0.10 in /usr/local/lib/python3.10/dist-packages (from matplotlib->pykrx) (0.11.0)\n",
            "Requirement already satisfied: fonttools>=4.22.0 in /usr/local/lib/python3.10/dist-packages (from matplotlib->pykrx) (4.39.3)\n",
            "Requirement already satisfied: kiwisolver>=1.0.1 in /usr/local/lib/python3.10/dist-packages (from matplotlib->pykrx) (1.4.4)\n",
            "Requirement already satisfied: packaging>=20.0 in /usr/local/lib/python3.10/dist-packages (from matplotlib->pykrx) (23.1)\n",
            "Requirement already satisfied: pillow>=6.2.0 in /usr/local/lib/python3.10/dist-packages (from matplotlib->pykrx) (8.4.0)\n",
            "Requirement already satisfied: pyparsing>=2.3.1 in /usr/local/lib/python3.10/dist-packages (from matplotlib->pykrx) (3.0.9)\n",
            "Requirement already satisfied: python-dateutil>=2.7 in /usr/local/lib/python3.10/dist-packages (from matplotlib->pykrx) (2.8.2)\n",
            "Requirement already satisfied: six in /usr/local/lib/python3.10/dist-packages (from multipledispatch->pykrx) (1.16.0)\n",
            "Requirement already satisfied: urllib3<1.27,>=1.21.1 in /usr/local/lib/python3.10/dist-packages (from requests->pykrx) (1.26.15)\n",
            "Requirement already satisfied: certifi>=2017.4.17 in /usr/local/lib/python3.10/dist-packages (from requests->pykrx) (2022.12.7)\n",
            "Requirement already satisfied: charset-normalizer~=2.0.0 in /usr/local/lib/python3.10/dist-packages (from requests->pykrx) (2.0.12)\n",
            "Requirement already satisfied: idna<4,>=2.5 in /usr/local/lib/python3.10/dist-packages (from requests->pykrx) (3.4)\n",
            "Requirement already satisfied: setuptools in /usr/local/lib/python3.10/dist-packages (from zope.interface->datetime->pykrx) (67.7.2)\n",
            "Installing collected packages: zope.interface, deprecated, datetime, pykrx\n",
            "Successfully installed datetime-5.1 deprecated-1.2.13 pykrx-1.0.42 zope.interface-6.0\n"
          ]
        }
      ]
    },
    {
      "cell_type": "code",
      "source": [
        "from datetime import datetime\n",
        "from dateutil.relativedelta import relativedelta, TH\n",
        "from dateutil.parser import parse\n",
        "from calendar import monthrange\n",
        "from pykrx import stock\n",
        "from termcolor import colored\n",
        "import pandas as pd\n",
        "import numpy as np\n",
        "import time"
      ],
      "metadata": {
        "id": "hNgwzq4sQrMo"
      },
      "execution_count": 11,
      "outputs": []
    },
    {
      "cell_type": "code",
      "execution_count": 12,
      "metadata": {
        "colab": {
          "base_uri": "https://localhost:8080/"
        },
        "id": "-9YeuAHOQRCA",
        "outputId": "f2016ae5-b0d3-470a-b894-a4b3b8734cce"
      },
      "outputs": [
        {
          "output_type": "stream",
          "name": "stdout",
          "text": [
            "종목 코드를 입력하세요 : 005900\n",
            "종목 코드를 입력하세요 : 041510\n",
            "종목 코드를 입력하세요 : 000660\n",
            "종목 코드를 입력하세요 : \n",
            "['005900', '041510', '000660']\n"
          ]
        }
      ],
      "source": [
        "0\n",
        "'''\n",
        "정보를 얻고 \n",
        "싶은 종목을 '종목코드'로 입력해 주세요\n",
        "'''\n",
        "#종목코드리스트 = ['005930','041510','000660','036810','137400']\n",
        "종목코드리스트 = []\n",
        "\n",
        "while True:\n",
        "    code = input(\"종목 코드를 입력하세요 : \")\n",
        "    if code == \"\":\n",
        "        break\n",
        "    종목코드리스트.append(code)\n",
        "\n",
        "print(종목코드리스트)\n",
        "\n"
      ]
    },
    {
      "cell_type": "code",
      "source": [
        "def get_today_date():\n",
        "    today = datetime.today()\n",
        "    return today.strftime(\"%Y-%m-%d\")\n",
        "\n",
        "\n",
        "\n",
        "def 종목별만기일추이(종목코드, 옵션만기일):\n",
        "\n",
        "    option_expiration_dates = 옵션만기일\n",
        "    df_list = []\n",
        "    for date in option_expiration_dates:\n",
        "        time.sleep(0.5)\n",
        "        df = stock.get_market_ohlcv(date.replace(\"-\", \"\"), date.replace(\"-\", \"\"), 종목코드)\n",
        "        print(df)\n",
        "        df_list.append(df)\n",
        "\n",
        "    df = pd.concat(df_list).reset_index().rename(columns={\"날짜\": \"만기일\", \"시가\": \"시가\", \"고가\": \"고가\", \"저가\": \"저가\", \"종가\": \"종가\", \"거래량\": \"거래량\"})\n",
        "    print(df)\n",
        "\n",
        "    #고가 - 저가열을 만들고 싶다 등락률은 전일 종가 기준이기 때문에\n",
        "    df['고가'] = pd.to_numeric(df['고가'])\n",
        "    df['저가'] = pd.to_numeric(df['저가'])\n",
        "    df['고가-저가'] = df['고가'] - df['저가']\n",
        "\n",
        "    df3 = stock.get_market_ohlcv('20220101', get_today_date(),종목코드)\n",
        "    df3 = df3['거래량']\n",
        "    df3_monthly_mean = df3.resample('M').mean() # 월별 평균 계산\n",
        "\n",
        "    #해당일 투자주체 순매수열 추가\n",
        "    volume_list = []\n",
        "    for date in option_expiration_dates:\n",
        "        try:\n",
        "            df5 = stock.get_market_trading_volume_by_date(date, date, 종목코드).reset_index().iloc[0].to_dict()\n",
        "            volume_list.append(df5)\n",
        "        except:\n",
        "            pass\n",
        "\n",
        "    volume_list=pd.DataFrame(volume_list)\n",
        "\n",
        "    pd.options.display.float_format = '{:.0f}'.format\n",
        "    해당월일평균거래량= df3_monthly_mean\n",
        "    해당월일평균거래량 = 해당월일평균거래량.reset_index()\n",
        "    해당월일평균거래량 = 해당월일평균거래량['거래량']\n",
        "    해당월일평균거래량\n",
        "    df['해당월일평균거래량'] = 해당월일평균거래량\n",
        "\n",
        "    df['월평균거래량대비 만기일거래량 비중'] = df['거래량'] / df['해당월일평균거래량']*100\n",
        "\n",
        "    #만기일 열을 년-월만 보이게 하는 함수\n",
        "    #df['만기일'] = pd.to_datetime(df['만기일'])\n",
        "    #df['만기일'] = df['만기일'].dt.strftime('%Y-%m')\n",
        "    df['시가'] = df['시가'].apply(lambda x: format(x, ',')) # open열 콤마 추가\n",
        "    df['고가'] = df['고가'].apply(lambda x: format(x, ',')) # high열 콤마 추가\n",
        "    df['저가'] = df['저가'].apply(lambda x: format(x, ',')) # low열 콤마 추가\n",
        "    df['종가'] = df['종가'].apply(lambda x: format(x, ',')) # close열 콤마 추가\n",
        "    df['거래량'] = df['거래량'].apply(lambda x: format(x, ',')) # volume열 콤마 추가\n",
        "    df['거래대금'] = df['거래대금'].apply(lambda x: format(x, ',')) # 거래대금열 콤마 추가\n",
        "    df['고가-저가'] = df['고가-저가'].apply(lambda x: format(x, ',')) # 고가-저가열 콤마 추가\n",
        "    df['해당월일평균거래량'] = df['해당월일평균거래량'].apply(lambda x: '{:,.0f}'.format(x))#해당월일평균거래량열 콤마추가 소수점버리기\n",
        "    df['월평균거래량대비 만기일거래량 비중'] = df['월평균거래량대비 만기일거래량 비중'].apply(lambda x: '{:.1f}%'.format(x)) #일평균거래량에 %추가, 소수점 1의자리까지\n",
        "    df['등락률'] = df['등락률'].apply(lambda x: '{:.1f}%'.format(x))  #등락률에 %추가, 소수점 1의자리까지\n",
        "\n",
        "\n",
        "    한글종목명 = stock.get_market_ticker_name(종목코드)\n",
        "    print('                               ',colored(한글종목명.center(7), 'black', 'on_yellow', attrs=['bold']),'의 만기일 추이')\n",
        "\n",
        "    df=df.set_index(\"만기일\")\n",
        "    volume_list = volume_list.set_index(\"날짜\")\n",
        "    new_df = df.join(volume_list)\n",
        "    new_col = ['시가', '종가', '고가', '저가', '고가-저가', '등락률', '거래량', '해당월일평균거래량', \n",
        "               '월평균거래량대비 만기일거래량 비중','기관합계', '개인', '외국인합계']\n",
        "    new_df=new_df.loc[:, new_col]\n",
        "\n",
        "\n",
        "    new_df['기관합계'] = new_df['기관합계'].apply(lambda x: format(x, ',')) # 콤마 추가\n",
        "    new_df['개인'] = new_df['개인'].apply(lambda x: format(x, ',')) \n",
        "    new_df['외국인합계'] = new_df['외국인합계'].apply(lambda x: format(x, ',')) \n",
        "\n",
        "    new_df = new_df.reset_index()\n",
        "    new_df['만기일'] = new_df['만기일'].astype(str)\n",
        "\n",
        "    한글종목명 = stock.get_market_ticker_name(종목코드)\n",
        "    new_df['종목이름'] = 한글종목명\n",
        "    \n",
        "    return new_df"
      ],
      "metadata": {
        "id": "eUDnd6LsQiZb"
      },
      "execution_count": 26,
      "outputs": []
    },
    {
      "cell_type": "code",
      "source": [
        "\n",
        "# 오늘의 날짜 가져오기\n",
        "today = datetime.now()\n",
        "\n",
        "# 작년과 올해의 날짜 계산\n",
        "last_year = today - relativedelta(years=1)\n",
        "this_year = today\n",
        "\n",
        "# 결과를 저장할 리스트 초기화\n",
        "옵션만기일 = []\n",
        "\n",
        "# 작년과 올해의 모든 매달 두 번째/세 번째 목요일 값 가져오기\n",
        "for year in [last_year.year, this_year.year]:\n",
        "    for month in range(1, 13):\n",
        "        # 해당 월의 첫 번째 날로 설정\n",
        "        dt = datetime(year, month, 1)\n",
        "\n",
        "        # 해당 월의 첫 주와 첫 주의 목요일 찾기\n",
        "        dt += relativedelta(weekday=TH(1))\n",
        "        \n",
        "        # 해당 주의 일수가 0이라면 다음 주로 이동\n",
        "        if dt.day == 0:\n",
        "            dt += relativedelta(weeks=1)\n",
        "\n",
        "        # 해당 월의 두 번째/세 번째 목요일 찾기\n",
        "        if dt.day < 8:\n",
        "            # 첫 주의 목요일을 찾은 경우, 두 번째 주 목요일 찾기\n",
        "            dt += relativedelta(weeks=1)\n",
        "        else:\n",
        "            # 첫 주의 목요일 이후인 경우, 세 번째 주 목요일 찾기\n",
        "            dt += relativedelta(weeks=2)\n",
        "\n",
        "        # 결과에 추가\n",
        "        옵션만기일.append(dt.strftime('%Y-%m-%d'))\n",
        "\n",
        "# 결과 출력\n",
        "print(옵션만기일)\n",
        "\n",
        "option_expiration_dates = 옵션만기일\n",
        "df_list = []\n",
        "for date in option_expiration_dates:\n",
        "  time.sleep(0.5)\n",
        "  df = stock.get_market_ohlcv(date.replace(\"-\", \"\"), date.replace(\"-\", \"\"), '000660')\n",
        "  print(df)\n",
        "  df_list.append(df)\n",
        "\n",
        "  df = pd.concat(df_list).reset_index().rename(columns={\"날짜\": \"만기일\", \"시가\": \"시가\", \"고가\": \"고가\", \"저가\": \"저가\", \"종가\": \"종가\", \"거래량\": \"거래량\"})\n",
        "print(df)"
      ],
      "metadata": {
        "colab": {
          "base_uri": "https://localhost:8080/"
        },
        "id": "-uyIAYokQzg7",
        "outputId": "86222b56-7f69-4d89-c14a-895dc299d75e"
      },
      "execution_count": 28,
      "outputs": [
        {
          "output_type": "stream",
          "name": "stdout",
          "text": [
            "['2022-01-13', '2022-02-10', '2022-03-10', '2022-04-14', '2022-05-12', '2022-06-09', '2022-07-14', '2022-08-11', '2022-09-08', '2022-10-13', '2022-11-10', '2022-12-08', '2023-01-12', '2023-02-09', '2023-03-09', '2023-04-13', '2023-05-11', '2023-06-08', '2023-07-13', '2023-08-10', '2023-09-14', '2023-10-12', '2023-11-09', '2023-12-14']\n",
            "                시가      고가      저가      종가      거래량          거래대금   등락률\n",
            "날짜                                                                     \n",
            "2022-01-13  128500  130000  128000  129500  4155984  536433810500  0.78\n",
            "                시가      고가      저가      종가      거래량          거래대금   등락률\n",
            "날짜                                                                     \n",
            "2022-02-10  129000  131000  127000  129500  7269729  939935633500  2.78\n",
            "                시가      고가      저가      종가      거래량          거래대금   등락률\n",
            "날짜                                                                     \n",
            "2022-03-10  121000  121500  118500  120000  3912683  470385190000  1.69\n",
            "                시가      고가      저가      종가      거래량          거래대금   등락률\n",
            "날짜                                                                     \n",
            "2022-04-14  113000  113000  110000  110000  4715700  522072911000 -2.65\n",
            "                시가      고가      저가      종가      거래량          거래대금   등락률\n",
            "날짜                                                                     \n",
            "2022-05-12  109500  111500  108500  109000  4132948  453649533500 -1.36\n",
            "                시가      고가      저가      종가      거래량          거래대금   등락률\n",
            "날짜                                                                     \n",
            "2022-06-09  105500  107000  104500  105500  4640744  491231766000 -0.47\n",
            "               시가     고가     저가     종가      거래량          거래대금  등락률\n",
            "날짜                                                                \n",
            "2022-07-14  92800  95500  92300  94000  2550307  239956379900  0.0\n",
            "               시가     고가     저가     종가      거래량          거래대금   등락률\n",
            "날짜                                                                 \n",
            "2022-08-11  93500  94400  92600  93300  5206962  486250440600  1.63\n",
            "               시가     고가     저가     종가      거래량          거래대금  등락률\n",
            "날짜                                                                \n",
            "2022-09-08  90500  91000  90000  90400  2012123  181857897400  0.0\n",
            "               시가     고가     저가     종가      거래량          거래대금   등락률\n",
            "날짜                                                                 \n",
            "2022-10-13  93400  94900  92800  94900  4390570  413619747582  0.96\n",
            "               시가     고가     저가     종가      거래량          거래대금   등락률\n",
            "날짜                                                                 \n",
            "2022-11-10  89000  90800  88300  89100  3856811  345585623552 -0.11\n",
            "               시가     고가     저가     종가      거래량          거래대금   등락률\n",
            "날짜                                                                 \n",
            "2022-12-08  78200  79800  78200  78800  3809847  300349172100 -0.13\n",
            "               시가     고가     저가     종가      거래량          거래대금   등락률\n",
            "날짜                                                                 \n",
            "2023-01-12  88100  88100  85800  86800  3065582  265514341800 -0.57\n",
            "               시가     고가     저가     종가      거래량          거래대금   등락률\n",
            "날짜                                                                 \n",
            "2023-02-09  94800  94800  92600  94400  2726568  255614856068 -0.53\n",
            "               시가     고가     저가     종가      거래량          거래대금   등락률\n",
            "날짜                                                                 \n",
            "2023-03-09  87300  87800  85300  85600  3315016  284818757400 -1.38\n",
            "               시가     고가     저가     종가      거래량          거래대금   등락률\n",
            "날짜                                                                 \n",
            "2023-04-13  89500  90300  88200  88700  4907552  436932206800 -1.77\n",
            "               시가     고가     저가     종가      거래량          거래대금   등락률\n",
            "날짜                                                                 \n",
            "2023-05-11  86900  87300  85000  86300  2806299  242600516700 -0.69\n",
            "Empty DataFrame\n",
            "Columns: []\n",
            "Index: []\n",
            "Empty DataFrame\n",
            "Columns: []\n",
            "Index: []\n",
            "Empty DataFrame\n",
            "Columns: []\n",
            "Index: []\n",
            "Empty DataFrame\n",
            "Columns: []\n",
            "Index: []\n",
            "Empty DataFrame\n",
            "Columns: []\n",
            "Index: []\n",
            "Empty DataFrame\n",
            "Columns: []\n",
            "Index: []\n",
            "Empty DataFrame\n",
            "Columns: []\n",
            "Index: []\n",
            "          만기일      시가      고가      저가      종가      거래량          거래대금   등락률\n",
            "0  2022-01-13  128500  130000  128000  129500  4155984  536433810500  0.78\n",
            "1  2022-02-10  129000  131000  127000  129500  7269729  939935633500  2.78\n",
            "2  2022-03-10  121000  121500  118500  120000  3912683  470385190000  1.69\n",
            "3  2022-04-14  113000  113000  110000  110000  4715700  522072911000 -2.65\n",
            "4  2022-05-12  109500  111500  108500  109000  4132948  453649533500 -1.36\n",
            "5  2022-06-09  105500  107000  104500  105500  4640744  491231766000 -0.47\n",
            "6  2022-07-14   92800   95500   92300   94000  2550307  239956379900  0.00\n",
            "7  2022-08-11   93500   94400   92600   93300  5206962  486250440600  1.63\n",
            "8  2022-09-08   90500   91000   90000   90400  2012123  181857897400  0.00\n",
            "9  2022-10-13   93400   94900   92800   94900  4390570  413619747582  0.96\n",
            "10 2022-11-10   89000   90800   88300   89100  3856811  345585623552 -0.11\n",
            "11 2022-12-08   78200   79800   78200   78800  3809847  300349172100 -0.13\n",
            "12 2023-01-12   88100   88100   85800   86800  3065582  265514341800 -0.57\n",
            "13 2023-02-09   94800   94800   92600   94400  2726568  255614856068 -0.53\n",
            "14 2023-03-09   87300   87800   85300   85600  3315016  284818757400 -1.38\n",
            "15 2023-04-13   89500   90300   88200   88700  4907552  436932206800 -1.77\n",
            "16 2023-05-11   86900   87300   85000   86300  2806299  242600516700 -0.69\n"
          ]
        }
      ]
    },
    {
      "cell_type": "code",
      "source": [
        "df = pd.DataFrame()\n",
        "df_list = []\n",
        "\n",
        "df\n",
        "\n",
        "for 종목코드 in 종목코드리스트:\n",
        "    time.sleep(1)\n",
        "    df2 = 종목별만기일추이(종목코드, 옵션만기일)"
      ],
      "metadata": {
        "colab": {
          "base_uri": "https://localhost:8080/",
          "height": 592
        },
        "id": "s4ktBy1dRoaM",
        "outputId": "4b4cb859-0d23-461e-985f-877602000034"
      },
      "execution_count": 24,
      "outputs": [
        {
          "output_type": "stream",
          "name": "stdout",
          "text": [
            "Empty DataFrame\n",
            "Columns: [index]\n",
            "Index: []\n"
          ]
        },
        {
          "output_type": "error",
          "ename": "KeyError",
          "evalue": "ignored",
          "traceback": [
            "\u001b[0;31m---------------------------------------------------------------------------\u001b[0m",
            "\u001b[0;31mKeyError\u001b[0m                                  Traceback (most recent call last)",
            "\u001b[0;32m/usr/local/lib/python3.10/dist-packages/pandas/core/indexes/base.py\u001b[0m in \u001b[0;36mget_loc\u001b[0;34m(self, key, method, tolerance)\u001b[0m\n\u001b[1;32m   3801\u001b[0m             \u001b[0;32mtry\u001b[0m\u001b[0;34m:\u001b[0m\u001b[0;34m\u001b[0m\u001b[0;34m\u001b[0m\u001b[0m\n\u001b[0;32m-> 3802\u001b[0;31m                 \u001b[0;32mreturn\u001b[0m \u001b[0mself\u001b[0m\u001b[0;34m.\u001b[0m\u001b[0m_engine\u001b[0m\u001b[0;34m.\u001b[0m\u001b[0mget_loc\u001b[0m\u001b[0;34m(\u001b[0m\u001b[0mcasted_key\u001b[0m\u001b[0;34m)\u001b[0m\u001b[0;34m\u001b[0m\u001b[0;34m\u001b[0m\u001b[0m\n\u001b[0m\u001b[1;32m   3803\u001b[0m             \u001b[0;32mexcept\u001b[0m \u001b[0mKeyError\u001b[0m \u001b[0;32mas\u001b[0m \u001b[0merr\u001b[0m\u001b[0;34m:\u001b[0m\u001b[0;34m\u001b[0m\u001b[0;34m\u001b[0m\u001b[0m\n",
            "\u001b[0;32m/usr/local/lib/python3.10/dist-packages/pandas/_libs/index.pyx\u001b[0m in \u001b[0;36mpandas._libs.index.IndexEngine.get_loc\u001b[0;34m()\u001b[0m\n",
            "\u001b[0;32m/usr/local/lib/python3.10/dist-packages/pandas/_libs/index.pyx\u001b[0m in \u001b[0;36mpandas._libs.index.IndexEngine.get_loc\u001b[0;34m()\u001b[0m\n",
            "\u001b[0;32mpandas/_libs/hashtable_class_helper.pxi\u001b[0m in \u001b[0;36mpandas._libs.hashtable.PyObjectHashTable.get_item\u001b[0;34m()\u001b[0m\n",
            "\u001b[0;32mpandas/_libs/hashtable_class_helper.pxi\u001b[0m in \u001b[0;36mpandas._libs.hashtable.PyObjectHashTable.get_item\u001b[0;34m()\u001b[0m\n",
            "\u001b[0;31mKeyError\u001b[0m: '고가'",
            "\nThe above exception was the direct cause of the following exception:\n",
            "\u001b[0;31mKeyError\u001b[0m                                  Traceback (most recent call last)",
            "\u001b[0;32m<ipython-input-24-f043865468f5>\u001b[0m in \u001b[0;36m<cell line: 6>\u001b[0;34m()\u001b[0m\n\u001b[1;32m      6\u001b[0m \u001b[0;32mfor\u001b[0m \u001b[0m종목코드\u001b[0m \u001b[0;32min\u001b[0m \u001b[0m종목코드리스트\u001b[0m\u001b[0;34m:\u001b[0m\u001b[0;34m\u001b[0m\u001b[0;34m\u001b[0m\u001b[0m\n\u001b[1;32m      7\u001b[0m     \u001b[0mtime\u001b[0m\u001b[0;34m.\u001b[0m\u001b[0msleep\u001b[0m\u001b[0;34m(\u001b[0m\u001b[0;36m1\u001b[0m\u001b[0;34m)\u001b[0m\u001b[0;34m\u001b[0m\u001b[0;34m\u001b[0m\u001b[0m\n\u001b[0;32m----> 8\u001b[0;31m     \u001b[0mdf2\u001b[0m \u001b[0;34m=\u001b[0m \u001b[0m종목별만기일추이\u001b[0m\u001b[0;34m(\u001b[0m\u001b[0m종목코드\u001b[0m\u001b[0;34m,\u001b[0m \u001b[0m옵션만기일\u001b[0m\u001b[0;34m)\u001b[0m\u001b[0;34m\u001b[0m\u001b[0;34m\u001b[0m\u001b[0m\n\u001b[0m",
            "\u001b[0;32m<ipython-input-22-244dfce372f4>\u001b[0m in \u001b[0;36m종목별만기일추이\u001b[0;34m(종목코드, 옵션만기일)\u001b[0m\n\u001b[1;32m     18\u001b[0m \u001b[0;34m\u001b[0m\u001b[0m\n\u001b[1;32m     19\u001b[0m     \u001b[0;31m#고가 - 저가열을 만들고 싶다 등락률은 전일 종가 기준이기 때문에\u001b[0m\u001b[0;34m\u001b[0m\u001b[0;34m\u001b[0m\u001b[0m\n\u001b[0;32m---> 20\u001b[0;31m     \u001b[0mdf\u001b[0m\u001b[0;34m[\u001b[0m\u001b[0;34m'고가'\u001b[0m\u001b[0;34m]\u001b[0m \u001b[0;34m=\u001b[0m \u001b[0mpd\u001b[0m\u001b[0;34m.\u001b[0m\u001b[0mto_numeric\u001b[0m\u001b[0;34m(\u001b[0m\u001b[0mdf\u001b[0m\u001b[0;34m[\u001b[0m\u001b[0;34m'고가'\u001b[0m\u001b[0;34m]\u001b[0m\u001b[0;34m)\u001b[0m\u001b[0;34m\u001b[0m\u001b[0;34m\u001b[0m\u001b[0m\n\u001b[0m\u001b[1;32m     21\u001b[0m     \u001b[0mdf\u001b[0m\u001b[0;34m[\u001b[0m\u001b[0;34m'저가'\u001b[0m\u001b[0;34m]\u001b[0m \u001b[0;34m=\u001b[0m \u001b[0mpd\u001b[0m\u001b[0;34m.\u001b[0m\u001b[0mto_numeric\u001b[0m\u001b[0;34m(\u001b[0m\u001b[0mdf\u001b[0m\u001b[0;34m[\u001b[0m\u001b[0;34m'저가'\u001b[0m\u001b[0;34m]\u001b[0m\u001b[0;34m)\u001b[0m\u001b[0;34m\u001b[0m\u001b[0;34m\u001b[0m\u001b[0m\n\u001b[1;32m     22\u001b[0m     \u001b[0mdf\u001b[0m\u001b[0;34m[\u001b[0m\u001b[0;34m'고가-저가'\u001b[0m\u001b[0;34m]\u001b[0m \u001b[0;34m=\u001b[0m \u001b[0mdf\u001b[0m\u001b[0;34m[\u001b[0m\u001b[0;34m'고가'\u001b[0m\u001b[0;34m]\u001b[0m \u001b[0;34m-\u001b[0m \u001b[0mdf\u001b[0m\u001b[0;34m[\u001b[0m\u001b[0;34m'저가'\u001b[0m\u001b[0;34m]\u001b[0m\u001b[0;34m\u001b[0m\u001b[0;34m\u001b[0m\u001b[0m\n",
            "\u001b[0;32m/usr/local/lib/python3.10/dist-packages/pandas/core/frame.py\u001b[0m in \u001b[0;36m__getitem__\u001b[0;34m(self, key)\u001b[0m\n\u001b[1;32m   3805\u001b[0m             \u001b[0;32mif\u001b[0m \u001b[0mself\u001b[0m\u001b[0;34m.\u001b[0m\u001b[0mcolumns\u001b[0m\u001b[0;34m.\u001b[0m\u001b[0mnlevels\u001b[0m \u001b[0;34m>\u001b[0m \u001b[0;36m1\u001b[0m\u001b[0;34m:\u001b[0m\u001b[0;34m\u001b[0m\u001b[0;34m\u001b[0m\u001b[0m\n\u001b[1;32m   3806\u001b[0m                 \u001b[0;32mreturn\u001b[0m \u001b[0mself\u001b[0m\u001b[0;34m.\u001b[0m\u001b[0m_getitem_multilevel\u001b[0m\u001b[0;34m(\u001b[0m\u001b[0mkey\u001b[0m\u001b[0;34m)\u001b[0m\u001b[0;34m\u001b[0m\u001b[0;34m\u001b[0m\u001b[0m\n\u001b[0;32m-> 3807\u001b[0;31m             \u001b[0mindexer\u001b[0m \u001b[0;34m=\u001b[0m \u001b[0mself\u001b[0m\u001b[0;34m.\u001b[0m\u001b[0mcolumns\u001b[0m\u001b[0;34m.\u001b[0m\u001b[0mget_loc\u001b[0m\u001b[0;34m(\u001b[0m\u001b[0mkey\u001b[0m\u001b[0;34m)\u001b[0m\u001b[0;34m\u001b[0m\u001b[0;34m\u001b[0m\u001b[0m\n\u001b[0m\u001b[1;32m   3808\u001b[0m             \u001b[0;32mif\u001b[0m \u001b[0mis_integer\u001b[0m\u001b[0;34m(\u001b[0m\u001b[0mindexer\u001b[0m\u001b[0;34m)\u001b[0m\u001b[0;34m:\u001b[0m\u001b[0;34m\u001b[0m\u001b[0;34m\u001b[0m\u001b[0m\n\u001b[1;32m   3809\u001b[0m                 \u001b[0mindexer\u001b[0m \u001b[0;34m=\u001b[0m \u001b[0;34m[\u001b[0m\u001b[0mindexer\u001b[0m\u001b[0;34m]\u001b[0m\u001b[0;34m\u001b[0m\u001b[0;34m\u001b[0m\u001b[0m\n",
            "\u001b[0;32m/usr/local/lib/python3.10/dist-packages/pandas/core/indexes/base.py\u001b[0m in \u001b[0;36mget_loc\u001b[0;34m(self, key, method, tolerance)\u001b[0m\n\u001b[1;32m   3802\u001b[0m                 \u001b[0;32mreturn\u001b[0m \u001b[0mself\u001b[0m\u001b[0;34m.\u001b[0m\u001b[0m_engine\u001b[0m\u001b[0;34m.\u001b[0m\u001b[0mget_loc\u001b[0m\u001b[0;34m(\u001b[0m\u001b[0mcasted_key\u001b[0m\u001b[0;34m)\u001b[0m\u001b[0;34m\u001b[0m\u001b[0;34m\u001b[0m\u001b[0m\n\u001b[1;32m   3803\u001b[0m             \u001b[0;32mexcept\u001b[0m \u001b[0mKeyError\u001b[0m \u001b[0;32mas\u001b[0m \u001b[0merr\u001b[0m\u001b[0;34m:\u001b[0m\u001b[0;34m\u001b[0m\u001b[0;34m\u001b[0m\u001b[0m\n\u001b[0;32m-> 3804\u001b[0;31m                 \u001b[0;32mraise\u001b[0m \u001b[0mKeyError\u001b[0m\u001b[0;34m(\u001b[0m\u001b[0mkey\u001b[0m\u001b[0;34m)\u001b[0m \u001b[0;32mfrom\u001b[0m \u001b[0merr\u001b[0m\u001b[0;34m\u001b[0m\u001b[0;34m\u001b[0m\u001b[0m\n\u001b[0m\u001b[1;32m   3805\u001b[0m             \u001b[0;32mexcept\u001b[0m \u001b[0mTypeError\u001b[0m\u001b[0;34m:\u001b[0m\u001b[0;34m\u001b[0m\u001b[0;34m\u001b[0m\u001b[0m\n\u001b[1;32m   3806\u001b[0m                 \u001b[0;31m# If we have a listlike key, _check_indexing_error will raise\u001b[0m\u001b[0;34m\u001b[0m\u001b[0;34m\u001b[0m\u001b[0m\n",
            "\u001b[0;31mKeyError\u001b[0m: '고가'"
          ]
        }
      ]
    },
    {
      "cell_type": "code",
      "source": [
        "with pd.ExcelWriter(get_today_date() + ' 만기일 추이.xlsx') as writer:\n",
        "    for 종목코드 in 종목코드리스트:\n",
        "        time.sleep(1)\n",
        "        df2 = 종목별만기일추이(종목코드)\n",
        "        한글종목명 = stock.get_market_ticker_name(종목코드)\n",
        "        filter_df = df2[df2['종목이름'] == 한글종목명]\n",
        "        filter_df.to_excel(writer, index=False, sheet_name=한글종목명)"
      ],
      "metadata": {
        "id": "Ia1KucnnRq1a"
      },
      "execution_count": null,
      "outputs": []
    }
  ]
}